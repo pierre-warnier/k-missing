{
 "cells": [
  {
   "cell_type": "code",
   "execution_count": 1,
   "metadata": {},
   "outputs": [],
   "source": [
    "import numpy as np\n",
    "\n",
    "# dummy 1000 * 200 np.array containing random numbers and 50% missing values randomly distributed\n",
    "X = np.random.rand(5000, 100)\n",
    "X[X < 0.5] = np.nan\n",
    "\n",
    "# Same thing but only work with sparse matrices\n",
    "from scipy.sparse import random\n",
    "X_sparse = random(500000, 1000, density=0.05, format='csr')"
   ]
  },
  {
   "cell_type": "code",
   "execution_count": 2,
   "metadata": {},
   "outputs": [],
   "source": [
    "def random_projections(X, n_components=100):\n",
    "    n_samples, n_features = X.shape\n",
    "    components = np.random.normal(size=(n_features, n_components))\n",
    "    \n",
    "    X_new = np.empty((n_samples, n_components))\n",
    "    for i in range(n_components):\n",
    "        X_new[:,i] = np.nansum(X * components[:,i], axis=1)\n",
    "\n",
    "    return X_new\n",
    "\n",
    "def random_projections_sparse(X, n_components=100):\n",
    "    n_samples, n_features = X.shape\n",
    "    components = np.random.normal(size=(n_features, n_components))\n",
    "    return X.dot(components)"
   ]
  },
  {
   "cell_type": "code",
   "execution_count": 3,
   "metadata": {},
   "outputs": [],
   "source": [
    "X_new = random_projections(X, n_components=10)"
   ]
  },
  {
   "cell_type": "code",
   "execution_count": 5,
   "metadata": {},
   "outputs": [
    {
     "data": {
      "text/plain": [
       "(5000, 10)"
      ]
     },
     "execution_count": 5,
     "metadata": {},
     "output_type": "execute_result"
    }
   ],
   "source": [
    "X_new.shape"
   ]
  },
  {
   "cell_type": "code",
   "execution_count": 6,
   "metadata": {},
   "outputs": [],
   "source": [
    "X_new_sparse = random_projections_sparse(X_sparse, n_components=10)"
   ]
  },
  {
   "cell_type": "code",
   "execution_count": 9,
   "metadata": {},
   "outputs": [
    {
     "data": {
      "text/plain": [
       "(500000, 10)"
      ]
     },
     "execution_count": 9,
     "metadata": {},
     "output_type": "execute_result"
    }
   ],
   "source": [
    "X_new_sparse.shape"
   ]
  },
  {
   "cell_type": "code",
   "execution_count": null,
   "metadata": {},
   "outputs": [],
   "source": []
  }
 ],
 "metadata": {
  "kernelspec": {
   "display_name": "kmissing_env",
   "language": "python",
   "name": "python3"
  },
  "language_info": {
   "codemirror_mode": {
    "name": "ipython",
    "version": 3
   },
   "file_extension": ".py",
   "mimetype": "text/x-python",
   "name": "python",
   "nbconvert_exporter": "python",
   "pygments_lexer": "ipython3",
   "version": "3.11.5"
  },
  "orig_nbformat": 4
 },
 "nbformat": 4,
 "nbformat_minor": 2
}
