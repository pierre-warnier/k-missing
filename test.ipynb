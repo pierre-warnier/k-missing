{
 "cells": [
  {
   "cell_type": "code",
   "execution_count": 71,
   "metadata": {},
   "outputs": [],
   "source": [
    "import pandas as pd\n",
    "import numpy as np"
   ]
  },
  {
   "cell_type": "code",
   "execution_count": 81,
   "metadata": {},
   "outputs": [],
   "source": [
    "# dummy 1000 * 200 np.array containing random numbers and 50% missing values randomly distributed\n",
    "df = pd.DataFrame(np.random.randn(1000, 200))\n",
    "df[df < 0.5] = np.nan\n",
    "\n",
    "X = df.to_numpy()\n"
   ]
  },
  {
   "cell_type": "code",
   "execution_count": 83,
   "metadata": {},
   "outputs": [],
   "source": [
    "def kmeans_numpy(X, n_clusters, epsilon=1e-4):\n",
    "    centroids = X[np.random.choice(X.shape[0], n_clusters, replace=False)]\n",
    "    while True:\n",
    "        distances = np.sqrt(np.nansum((X - centroids[:, np.newaxis])**2, axis=2))\n",
    "        labels = np.argmin(distances, axis=0)\n",
    "        new_centroids = np.array([np.nanmean(X[labels == k], axis=0) for k in range(n_clusters)])\n",
    "        # check if the centroids are not moving anymore (converged)\n",
    "        centroid_distance = np.sqrt(np.nansum((new_centroids - centroids)**2))\n",
    "        if centroid_distance < epsilon:\n",
    "            centroids = new_centroids\n",
    "            break\n",
    "\n",
    "        centroids = new_centroids\n",
    "    return labels, centroids"
   ]
  },
  {
   "cell_type": "code",
   "execution_count": 84,
   "metadata": {},
   "outputs": [
    {
     "name": "stdout",
     "output_type": "stream",
     "text": [
      "1th iteration, centroid distance: 6.637086663136439\n",
      "2th iteration, centroid distance: 1.7047700995032946\n",
      "3th iteration, centroid distance: 0.9060762214402891\n",
      "4th iteration, centroid distance: 0.6314054021128029\n",
      "5th iteration, centroid distance: 0.47332456361797914\n",
      "6th iteration, centroid distance: 0.33609232511788095\n",
      "7th iteration, centroid distance: 0.3175933909762969\n",
      "8th iteration, centroid distance: 0.3012027609291211\n",
      "9th iteration, centroid distance: 0.3759869083518327\n",
      "10th iteration, centroid distance: 0.2861398848118816\n",
      "11th iteration, centroid distance: 0.2819336659029857\n",
      "12th iteration, centroid distance: 0.3378243102534616\n",
      "13th iteration, centroid distance: 0.20551296317255918\n",
      "14th iteration, centroid distance: 0.1790207112099693\n",
      "15th iteration, centroid distance: 0.1819018272751779\n",
      "16th iteration, centroid distance: 0.11528122614593081\n",
      "17th iteration, centroid distance: 0.1496771316195133\n",
      "18th iteration, centroid distance: 0.0\n"
     ]
    }
   ],
   "source": [
    "labels, centroids = kmeans_numpy(X, 5)"
   ]
  },
  {
   "cell_type": "code",
   "execution_count": null,
   "metadata": {},
   "outputs": [],
   "source": [
    "centroids[1]"
   ]
  }
 ],
 "metadata": {
  "kernelspec": {
   "display_name": "kmissing_env",
   "language": "python",
   "name": "python3"
  },
  "language_info": {
   "codemirror_mode": {
    "name": "ipython",
    "version": 3
   },
   "file_extension": ".py",
   "mimetype": "text/x-python",
   "name": "python",
   "nbconvert_exporter": "python",
   "pygments_lexer": "ipython3",
   "version": "3.11.5"
  },
  "orig_nbformat": 4
 },
 "nbformat": 4,
 "nbformat_minor": 2
}
